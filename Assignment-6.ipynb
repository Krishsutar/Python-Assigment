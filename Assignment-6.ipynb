{
 "cells": [
  {
   "cell_type": "code",
   "execution_count": 5,
   "id": "5e4d062e",
   "metadata": {},
   "outputs": [
    {
     "name": "stdout",
     "output_type": "stream",
     "text": [
      "Hi my name is \n",
      "\tKrish\n"
     ]
    }
   ],
   "source": [
    "#1. What are escape characters, and how do you use them?\n",
    "#Ans:Escape characters are characters that are generally used to perform certain tasks and their usage in code \n",
    "#directs the compiler to take a suitable action mapped to that character.\n",
    "a = \"Hi my name is \\n\\tKrish\"\n",
    "print(a)"
   ]
  },
  {
   "cell_type": "code",
   "execution_count": null,
   "id": "41a23786",
   "metadata": {},
   "outputs": [],
   "source": [
    "2. What do the escape characters n and t stand for?\n",
    "\\n =  New line\n",
    "\\t = Tab space"
   ]
  },
  {
   "cell_type": "code",
   "execution_count": null,
   "id": "7d20ac59",
   "metadata": {},
   "outputs": [],
   "source": [
    "#3. What is the way to include backslash characters in a string?\n",
    "The \\\\ escape character will represent a backslash character."
   ]
  },
  {
   "cell_type": "code",
   "execution_count": 8,
   "id": "d26fc8bf",
   "metadata": {},
   "outputs": [
    {
     "data": {
      "text/plain": [
       "\"Howl's Moving Castle\""
      ]
     },
     "execution_count": 8,
     "metadata": {},
     "output_type": "execute_result"
    }
   ],
   "source": [
    "#4. The string \"Howl's Moving Castle\" is a correct value. Why isn't the single quote character in the word Howl's not escaped a problem?\n",
    "\"Howl's Moving Castle\"\n",
    "We have enclosed the the statement start and end in the double quote to make it string"
   ]
  },
  {
   "cell_type": "code",
   "execution_count": 15,
   "id": "e5ee9faf",
   "metadata": {},
   "outputs": [
    {
     "name": "stdout",
     "output_type": "stream",
     "text": [
      "Welcome\n",
      "Krish\n"
     ]
    }
   ],
   "source": [
    "#5. How do you write a string of newlines if you don't want to use the n character?\n",
    "#Ans:Multiline strings allow you to use newlines in strings without the \\n escape character\n",
    "print(\"Welcome\")\n",
    "print(\"Krish\")"
   ]
  },
  {
   "cell_type": "code",
   "execution_count": 18,
   "id": "bdc5f2f9",
   "metadata": {},
   "outputs": [
    {
     "data": {
      "text/plain": [
       "'e'"
      ]
     },
     "execution_count": 18,
     "metadata": {},
     "output_type": "execute_result"
    }
   ],
   "source": [
    "#6. What are the values of the given expressions?\n",
    "'Hello, world!'[1]\n",
    "#slicing operation try call index on 1"
   ]
  },
  {
   "cell_type": "code",
   "execution_count": 19,
   "id": "6dbe20ef",
   "metadata": {},
   "outputs": [
    {
     "data": {
      "text/plain": [
       "'Hello'"
      ]
     },
     "execution_count": 19,
     "metadata": {},
     "output_type": "execute_result"
    }
   ],
   "source": [
    "'Hello, world!'[0:5]\n",
    "#slicing operation try:which starts from 0 i.e. H and end at 5 i.e. o"
   ]
  },
  {
   "cell_type": "code",
   "execution_count": 20,
   "id": "e86fd592",
   "metadata": {},
   "outputs": [
    {
     "data": {
      "text/plain": [
       "'Hello'"
      ]
     },
     "execution_count": 20,
     "metadata": {},
     "output_type": "execute_result"
    }
   ],
   "source": [
    "'Hello, world!'[:5]\n",
    "#slicing operation try:which starts by default from 0 i.e. H and end at 5 i.e. o"
   ]
  },
  {
   "cell_type": "code",
   "execution_count": 21,
   "id": "dcc91e2b",
   "metadata": {},
   "outputs": [
    {
     "data": {
      "text/plain": [
       "'lo, world!'"
      ]
     },
     "execution_count": 21,
     "metadata": {},
     "output_type": "execute_result"
    }
   ],
   "source": [
    "'Hello, world!'[3:]\n",
    "#slicing operation try:which starts from  i.e. l and end at last of the index i.e. d"
   ]
  },
  {
   "cell_type": "code",
   "execution_count": 22,
   "id": "72596f57",
   "metadata": {},
   "outputs": [
    {
     "data": {
      "text/plain": [
       "'HELLO'"
      ]
     },
     "execution_count": 22,
     "metadata": {},
     "output_type": "execute_result"
    }
   ],
   "source": [
    "#7. What are the values of the following expressions?\n",
    "'Hello'.upper()\n",
    "#it will make all the letter in uppercase"
   ]
  },
  {
   "cell_type": "code",
   "execution_count": 29,
   "id": "803bd060",
   "metadata": {},
   "outputs": [
    {
     "data": {
      "text/plain": [
       "True"
      ]
     },
     "execution_count": 29,
     "metadata": {},
     "output_type": "execute_result"
    }
   ],
   "source": [
    "'Hello'.upper().isupper()\n",
    "#It will make all the letters in uppercase and then it will check wheather all are in uppercase then it gives True"
   ]
  },
  {
   "cell_type": "code",
   "execution_count": 30,
   "id": "d3704466",
   "metadata": {},
   "outputs": [
    {
     "data": {
      "text/plain": [
       "'hello'"
      ]
     },
     "execution_count": 30,
     "metadata": {},
     "output_type": "execute_result"
    }
   ],
   "source": [
    "'Hello'.upper().lower()\n",
    "#It will make all the letter in lowercase"
   ]
  },
  {
   "cell_type": "code",
   "execution_count": 31,
   "id": "3938a87b",
   "metadata": {},
   "outputs": [
    {
     "data": {
      "text/plain": [
       "['Remember,', 'remember,', 'the', 'fifth', 'of', 'July.']"
      ]
     },
     "execution_count": 31,
     "metadata": {},
     "output_type": "execute_result"
    }
   ],
   "source": [
    "#8. What are the values of the following expressions?\n",
    "'Remember, remember, the fifth of July.'.split()\n",
    "#It will split all the words from the string"
   ]
  },
  {
   "cell_type": "code",
   "execution_count": 32,
   "id": "6929e575",
   "metadata": {},
   "outputs": [
    {
     "data": {
      "text/plain": [
       "'There-can-only-one.'"
      ]
     },
     "execution_count": 32,
     "metadata": {},
     "output_type": "execute_result"
    }
   ],
   "source": [
    "'-'.join('There can only one.'.split())\n",
    "#It will join - between the splited string"
   ]
  },
  {
   "cell_type": "code",
   "execution_count": null,
   "id": "33a503d0",
   "metadata": {},
   "outputs": [],
   "source": [
    "#9. What are the methods for right-justifying, left-justifying, and centering a string?\n",
    "The rjust(), ljust(), and center() string methods, respectively"
   ]
  },
  {
   "cell_type": "code",
   "execution_count": 26,
   "id": "550f3aeb",
   "metadata": {},
   "outputs": [
    {
     "data": {
      "text/plain": [
       "'               Krish'"
      ]
     },
     "execution_count": 26,
     "metadata": {},
     "output_type": "execute_result"
    }
   ],
   "source": [
    "'Krish'.rjust(20)"
   ]
  },
  {
   "cell_type": "code",
   "execution_count": 22,
   "id": "3694d7ac",
   "metadata": {},
   "outputs": [
    {
     "data": {
      "text/plain": [
       "'Krish               '"
      ]
     },
     "execution_count": 22,
     "metadata": {},
     "output_type": "execute_result"
    }
   ],
   "source": [
    "'Krish'.ljust(20)"
   ]
  },
  {
   "cell_type": "code",
   "execution_count": 23,
   "id": "f13ff78d",
   "metadata": {},
   "outputs": [
    {
     "data": {
      "text/plain": [
       "'       Krish        '"
      ]
     },
     "execution_count": 23,
     "metadata": {},
     "output_type": "execute_result"
    }
   ],
   "source": [
    "'Krish'.center(20)"
   ]
  },
  {
   "cell_type": "code",
   "execution_count": null,
   "id": "853c87c1",
   "metadata": {},
   "outputs": [],
   "source": [
    "#10. What is the best way to remove whitespace characters from the start or end?\n",
    "The lstrip() and rstrip() methods remove whitespace from the left and right ends of a string, respectively."
   ]
  },
  {
   "cell_type": "code",
   "execution_count": 29,
   "id": "f44a06cd",
   "metadata": {},
   "outputs": [
    {
     "data": {
      "text/plain": [
       "'Krish        '"
      ]
     },
     "execution_count": 29,
     "metadata": {},
     "output_type": "execute_result"
    }
   ],
   "source": [
    "'       Krish        '.lstrip()"
   ]
  },
  {
   "cell_type": "code",
   "execution_count": 30,
   "id": "a63d2911",
   "metadata": {},
   "outputs": [
    {
     "data": {
      "text/plain": [
       "'       Krish'"
      ]
     },
     "execution_count": 30,
     "metadata": {},
     "output_type": "execute_result"
    }
   ],
   "source": [
    "'       Krish        '.rstrip()"
   ]
  },
  {
   "cell_type": "code",
   "execution_count": 31,
   "id": "cd6aa2cd",
   "metadata": {},
   "outputs": [
    {
     "data": {
      "text/plain": [
       "'Krish'"
      ]
     },
     "execution_count": 31,
     "metadata": {},
     "output_type": "execute_result"
    }
   ],
   "source": [
    "'       Krish        '.lstrip().rstrip()"
   ]
  },
  {
   "cell_type": "code",
   "execution_count": null,
   "id": "1df1cd17",
   "metadata": {},
   "outputs": [],
   "source": []
  }
 ],
 "metadata": {
  "kernelspec": {
   "display_name": "Python 3 (ipykernel)",
   "language": "python",
   "name": "python3"
  },
  "language_info": {
   "codemirror_mode": {
    "name": "ipython",
    "version": 3
   },
   "file_extension": ".py",
   "mimetype": "text/x-python",
   "name": "python",
   "nbconvert_exporter": "python",
   "pygments_lexer": "ipython3",
   "version": "3.9.7"
  }
 },
 "nbformat": 4,
 "nbformat_minor": 5
}
