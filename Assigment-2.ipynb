{
 "cells": [
  {
   "cell_type": "code",
   "execution_count": 11,
   "id": "969a1331",
   "metadata": {},
   "outputs": [
    {
     "data": {
      "text/plain": [
       "(True, False, False, True)"
      ]
     },
     "execution_count": 11,
     "metadata": {},
     "output_type": "execute_result"
    }
   ],
   "source": [
    "#1.What are the two values of the Boolean data type? How do you write them?\n",
    "#Ans:True and False are two boolean data type\n",
    "#example: x>y, y<x, x==y\n",
    "x = 6\n",
    "y = 5\n",
    "x>y, x<y, x==y, x!=y"
   ]
  },
  {
   "cell_type": "code",
   "execution_count": null,
   "id": "8a705161",
   "metadata": {},
   "outputs": [],
   "source": [
    "#What are the three different types of Boolean operators?\n",
    "Ans: AND, OR, NOT"
   ]
  },
  {
   "cell_type": "code",
   "execution_count": null,
   "id": "dd09f993",
   "metadata": {},
   "outputs": [],
   "source": [
    "#Make a list of each Boolean operator's truth tables (i.e. every possible combination of Boolean values for the operator and what it evaluate ).\n",
    "  X          Y        NOT X      X AND Y    X OR Y\n",
    "False       False      True        False       False\n",
    "False       True       True        False       True\n",
    "True        False      False       False       True\n",
    "True        True       False       True        True"
   ]
  },
  {
   "cell_type": "code",
   "execution_count": 21,
   "id": "3a1603a0",
   "metadata": {},
   "outputs": [
    {
     "data": {
      "text/plain": [
       "(True, False, False, True, False, True)"
      ]
     },
     "execution_count": 21,
     "metadata": {},
     "output_type": "execute_result"
    }
   ],
   "source": [
    "(5>4), 3 == 5, not (5>4),(5>4) or (3==5), (True and True) and (True == False), (not False) or (not True)"
   ]
  },
  {
   "cell_type": "code",
   "execution_count": 3,
   "id": "e5a4d2ae",
   "metadata": {},
   "outputs": [
    {
     "name": "stdout",
     "output_type": "stream",
     "text": [
      "enter integer number to start\n",
      "5\n",
      "Greetings!\n"
     ]
    }
   ],
   "source": [
    "spam = input(\"enter integer number to start\")\n",
    "spam = int(input())\n",
    "if spam == 1 :\n",
    "    print(\"Heloo\")\n",
    "elif spam == 2 :\n",
    "    print(\"Howdy\")\n",
    "else:\n",
    "    print(\"Greetings!\")"
   ]
  },
  {
   "cell_type": "code",
   "execution_count": null,
   "id": "f4f3c4bb",
   "metadata": {},
   "outputs": [],
   "source": [
    "#What are the six comparison operators?\n",
    "1. less than ( < )\n",
    "2. less than or equal to ( <= )\n",
    "3. greater than ( > )\n",
    "4. greater than or equal to ( >= )\n",
    "5. equal to ( == )\n",
    "6. and not equal to ( != ).\n"
   ]
  },
  {
   "cell_type": "code",
   "execution_count": 7,
   "id": "80a2d612",
   "metadata": {},
   "outputs": [
    {
     "data": {
      "text/plain": [
       "True"
      ]
     },
     "execution_count": 7,
     "metadata": {},
     "output_type": "execute_result"
    }
   ],
   "source": [
    "#How do you tell the difference between the equal to and assignment operators? Describe a condition and when you would use one.\n",
    "#Ans: The “=” is an assignment operator is used to assign the value on the right to the variable on the left.\n",
    "a = 10\n",
    "\n",
    "#Ans: The ‘==’ operator checks whether the two given operands are equal or not.\n",
    "a == 10"
   ]
  },
  {
   "cell_type": "code",
   "execution_count": 25,
   "id": "1ed85fe0",
   "metadata": {},
   "outputs": [
    {
     "name": "stdout",
     "output_type": "stream",
     "text": [
      "spam\n"
     ]
    }
   ],
   "source": [
    "#Identify the three blocks in this code:\n",
    "spam = 0\n",
    "if spam == 10:\n",
    "    print('eggs')\n",
    "    if spam > 5:\n",
    "        print('bacon')\n",
    "    else:\n",
    "        print('ham')\n",
    "    print('spam')\n",
    "print('spam')\n",
    "\n",
    "#Ans: The three blocks are everything inside the if statement. In current case it print spam which is in the 1st if statement."
   ]
  },
  {
   "cell_type": "code",
   "execution_count": 39,
   "id": "2d5e4b13",
   "metadata": {},
   "outputs": [
    {
     "name": "stdout",
     "output_type": "stream",
     "text": [
      "Enter integer value10\n",
      "Greeting\n"
     ]
    }
   ],
   "source": [
    "#Write code that prints Hello if 1 is stored in spam, prints Howdy if 2 is stored in spam, and prints Greetings! if anything else is stored in spam.\n",
    "spam = int(input(\"Enter integer value\"))\n",
    "if spam == 1:\n",
    "    print(\"hello\")\n",
    "if spam == 2:\n",
    "    print(\"Howdy\")\n",
    "else:\n",
    "    print(\"Greeting\")"
   ]
  },
  {
   "cell_type": "code",
   "execution_count": null,
   "id": "8fa2329d",
   "metadata": {},
   "outputs": [],
   "source": [
    "#If your programme is stuck in an endless loop, what keys you’ll press?\n",
    "Press CTR-C to stop the program or restart the kernel"
   ]
  },
  {
   "cell_type": "code",
   "execution_count": null,
   "id": "8e4a692d",
   "metadata": {},
   "outputs": [],
   "source": [
    "#How can you tell the difference between break and continue?\n",
    "Break is used to terminate the loop.\n",
    "Continue is used to terminate current iteration and resumes the next iteration."
   ]
  },
  {
   "cell_type": "code",
   "execution_count": null,
   "id": "f942e30a",
   "metadata": {},
   "outputs": [],
   "source": [
    "#In a for loop, what is the difference between range(10), range(0, 10), and range(0, 10, 1)?\n",
    "range(10) it will give range from 0 to 10 in this start is taken automatically wheras 10 is stop.\n",
    "range(0, 10) in this both start 0 and stop 10 has been mentioned\n",
    "range(0, 10, 1) in this start 0, stop 10 and with jump of 1 has been mentined"
   ]
  },
  {
   "cell_type": "code",
   "execution_count": 13,
   "id": "e62b7814",
   "metadata": {},
   "outputs": [
    {
     "name": "stdout",
     "output_type": "stream",
     "text": [
      "1\n",
      "2\n",
      "3\n",
      "4\n",
      "5\n",
      "6\n",
      "7\n",
      "8\n",
      "9\n",
      "10\n"
     ]
    }
   ],
   "source": [
    "#Write a short program that prints the numbers 1 to 10 using a for loop.\n",
    "#Then write an equivalent program that prints the numbers 1 to 10 using a while loop.\n",
    "\n",
    "for i in range(1, 11):\n",
    "    print(i)\n",
    "\n"
   ]
  },
  {
   "cell_type": "code",
   "execution_count": 16,
   "id": "9ace2999",
   "metadata": {},
   "outputs": [
    {
     "name": "stdout",
     "output_type": "stream",
     "text": [
      "1\n",
      "2\n",
      "3\n",
      "4\n",
      "5\n",
      "6\n",
      "7\n",
      "8\n",
      "9\n",
      "10\n"
     ]
    }
   ],
   "source": [
    "i = 1\n",
    "while(i<=10):\n",
    "    print(i)\n",
    "    i= i+1"
   ]
  },
  {
   "cell_type": "code",
   "execution_count": null,
   "id": "b3e30a22",
   "metadata": {},
   "outputs": [],
   "source": [
    "#. If you had a function named bacon() inside a module named spam, how would you call it after importing spam?\n",
    "import spam\n",
    "spam.bacon() it will call module named spam and run the function bacon()"
   ]
  }
 ],
 "metadata": {
  "kernelspec": {
   "display_name": "Python 3 (ipykernel)",
   "language": "python",
   "name": "python3"
  },
  "language_info": {
   "codemirror_mode": {
    "name": "ipython",
    "version": 3
   },
   "file_extension": ".py",
   "mimetype": "text/x-python",
   "name": "python",
   "nbconvert_exporter": "python",
   "pygments_lexer": "ipython3",
   "version": "3.9.7"
  }
 },
 "nbformat": 4,
 "nbformat_minor": 5
}
