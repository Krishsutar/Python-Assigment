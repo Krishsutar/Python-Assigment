{
 "cells": [
  {
   "cell_type": "code",
   "execution_count": 2,
   "id": "34d2c51d",
   "metadata": {},
   "outputs": [],
   "source": [
    "#1. In the below elements which of them are values or an expression? eg:- values can be\n",
    "#integer or string and expressions will be mathematical operators.\n",
    "#* multipication mathamatical operator\n",
    "#\"hello\" string value\n",
    "#-87.8 float value\n",
    "#- substract mathamatical operator\n",
    "#/ divide mathamatical operator\n",
    "#+ addition mathamatical operator\n",
    "#6 integer value\n",
    "a = 2*3\n",
    "b = \"hello\"\n",
    "c = -87.8\n",
    "d = 5-3\n",
    "e = 8/4\n",
    "f = 2+3\n",
    "g = 6"
   ]
  },
  {
   "cell_type": "code",
   "execution_count": 4,
   "id": "7ccb8830",
   "metadata": {},
   "outputs": [
    {
     "data": {
      "text/plain": [
       "(int, str, float, int, float, int, int)"
      ]
     },
     "execution_count": 4,
     "metadata": {},
     "output_type": "execute_result"
    }
   ],
   "source": [
    "type(a), type(b), type(c), type(d), type(e), type(f), type(g)"
   ]
  },
  {
   "cell_type": "code",
   "execution_count": null,
   "id": "0b7e3d7b",
   "metadata": {},
   "outputs": [],
   "source": [
    "#2. What is the difference between string and variable?\n",
    "Variable= is in which we store some data.\n",
    "eg: Krish is variable.\n",
    "string = Anything we assign to variable using double or single quote is called as string.\n",
    "eg \"Krish\" is string"
   ]
  },
  {
   "cell_type": "code",
   "execution_count": null,
   "id": "4736b66f",
   "metadata": {},
   "outputs": [],
   "source": [
    "#3. Describe three different data types.\n",
    "1. Integer\n",
    "2. Flot\n",
    "3. String\n",
    "4. Boolean\n",
    "5. List\n",
    "6. Tuple"
   ]
  },
  {
   "cell_type": "code",
   "execution_count": null,
   "id": "65d46866",
   "metadata": {},
   "outputs": [],
   "source": [
    "#4. What is an expression made up of? What do all expressions do?\n",
    "Expression is made up of variable,operators, values.\n",
    "An expression is an instruction that combines values and operators and always evaluates down to a single value."
   ]
  },
  {
   "cell_type": "code",
   "execution_count": null,
   "id": "2ac9de17",
   "metadata": {},
   "outputs": [],
   "source": [
    "#5. This assignment statements, like spam = 10. What is the difference between an expression and a statement?\n",
    "An expression evaluates down to a single value wheres statement does not."
   ]
  },
  {
   "cell_type": "code",
   "execution_count": 5,
   "id": "8af17930",
   "metadata": {},
   "outputs": [
    {
     "data": {
      "text/plain": [
       "23"
      ]
     },
     "execution_count": 5,
     "metadata": {},
     "output_type": "execute_result"
    }
   ],
   "source": [
    "#6. After running the following code, what does the variable bacon contain?\n",
    "bacon = 22\n",
    "bacon + 1\n",
    "#Ans= integer(23)"
   ]
  },
  {
   "cell_type": "code",
   "execution_count": 6,
   "id": "3513ed18",
   "metadata": {},
   "outputs": [
    {
     "data": {
      "text/plain": [
       "'spamspamspam'"
      ]
     },
     "execution_count": 6,
     "metadata": {},
     "output_type": "execute_result"
    }
   ],
   "source": [
    "#7. What should the values of the following two terms be?\n",
    "'spam' + 'spamspam'\n",
    "'spam' * 3"
   ]
  },
  {
   "cell_type": "code",
   "execution_count": null,
   "id": "f872e5a6",
   "metadata": {},
   "outputs": [],
   "source": [
    "#8. Why is eggs a valid variable name while 100 is invalid?\n",
    "Ans= Because variable names cannot begin with a number(integer)."
   ]
  },
  {
   "cell_type": "code",
   "execution_count": 29,
   "id": "d9c7c289",
   "metadata": {},
   "outputs": [],
   "source": [
    "#9. What three functions can be used to get the integer, floating-point number, or string version of a value?\n",
    "int , float, str"
   ]
  },
  {
   "cell_type": "code",
   "execution_count": 12,
   "id": "5373aa5a",
   "metadata": {},
   "outputs": [
    {
     "data": {
      "text/plain": [
       "'I have eaten 99 burritos.'"
      ]
     },
     "execution_count": 12,
     "metadata": {},
     "output_type": "execute_result"
    }
   ],
   "source": [
    "#10. Why does this expression cause an error? How can you fix it?\n",
    "#'I have eaten ' + 99 + ' burritos.'\n",
    "# can only concatenate str (not \"int\") to str\n",
    "'I have eaten ' + \"99\" + ' burritos.'"
   ]
  }
 ],
 "metadata": {
  "kernelspec": {
   "display_name": "Python 3 (ipykernel)",
   "language": "python",
   "name": "python3"
  },
  "language_info": {
   "codemirror_mode": {
    "name": "ipython",
    "version": 3
   },
   "file_extension": ".py",
   "mimetype": "text/x-python",
   "name": "python",
   "nbconvert_exporter": "python",
   "pygments_lexer": "ipython3",
   "version": "3.9.7"
  }
 },
 "nbformat": 4,
 "nbformat_minor": 5
}
